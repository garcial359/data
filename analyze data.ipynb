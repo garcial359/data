{
 "cells": [
  {
   "cell_type": "code",
   "execution_count": null,
   "metadata": {},
   "outputs": [],
   "source": [
    "import pandas as pd\n",
    "from scipy.signal import butter, filtfilt"
   ]
  },
  {
   "cell_type": "code",
   "execution_count": null,
   "metadata": {},
   "outputs": [],
   "source": [
    "data_file = \"Minitab.csv\"\n",
    "index = \"time_index.csv\"\n",
    "skip = 0\n",
    "df = pd.read_csv(data_file)\n",
    "times = pd.read_csv(index)"
   ]
  },
  {
   "cell_type": "code",
   "execution_count": null,
   "metadata": {},
   "outputs": [],
   "source": [
    "fs = 100;   fc = 1;     order = 4\n",
    "nyq = fs * 0.5;         low = fc / nyq\n",
    "b, a = butter(order, low, btype='low', analog=False)"
   ]
  },
  {
   "cell_type": "code",
   "execution_count": null,
   "metadata": {},
   "outputs": [],
   "source": [
    "data_col = df.columns[10:19]\n",
    "for col in data_col:\n",
    "    col_new = col + \" filtered\"\n",
    "    df[col_new] = pd.to_numeric(df[col], errors='coerce')\n",
    "    df[col_new] = df[col_new].interpolate()\n",
    "    df[col_new] = df.groupby('Run')[col_new].transform(lambda x: filtfilt(b, a, x))"
   ]
  },
  {
   "cell_type": "code",
   "execution_count": null,
   "metadata": {},
   "outputs": [],
   "source": [
    "if skip == 0:\n",
    "    runs = df.groupby('Run')\n",
    "    rows = times.iterrows()\n",
    "    results = pd.DataFrame(columns=df.columns)\n",
    "    results['cavitation mode'] = []\n",
    "    for row in rows:\n",
    "        i = 0\n",
    "        for col in row[1]:\n",
    "            cav = pd.Series([times.columns[i]], index=['cavitation mode'])\n",
    "            series = runs.get_group(row[0]+1).iloc[col*100].append(cav)\n",
    "            results = results.append(series, ignore_index=True)\n",
    "            i += 1\n",
    "\n",
    "    results.to_csv(\"ABB/ABB Data Points.csv\", index=False)"
   ]
  },
  {
   "cell_type": "code",
   "execution_count": null,
   "metadata": {},
   "outputs": [],
   "source": [
    "df.to_csv(\"ABB/ABB Data.csv\", index=False)"
   ]
  }
 ],
 "metadata": {
  "kernelspec": {
   "display_name": "Python 3",
   "language": "python",
   "name": "python3"
  },
  "language_info": {
   "codemirror_mode": {
    "name": "ipython",
    "version": 3
   },
   "file_extension": ".py",
   "mimetype": "text/x-python",
   "name": "python",
   "nbconvert_exporter": "python",
   "pygments_lexer": "ipython3",
   "version": "3.7.5"
  }
 },
 "nbformat": 4,
 "nbformat_minor": 4
}
